{
 "cells": [
  {
   "cell_type": "code",
   "execution_count": 2,
   "metadata": {},
   "outputs": [],
   "source": [
    "import torch\n",
    "\n",
    "# Compute softmaxed weights based on win rate.\n",
    "# Use sample win rates from a recent run for comparison.\n",
    "model_weights = torch.tensor(\n",
    "    [0.6, 0.5333, 0.6667, 0.7, 0.9333, 0.1667, 0.6333, 0.1, 0.0667, 0.4333, 0.4667, 0.5, 0.1333, 0.5667, 0.2, 1.0, 0.0, 0.7333, 0.7667, 0.8, 0.8333, 0.8667, 0.9, 0.9667, 0.3, 0.2667, 0.2333, 0.0333, 0.3333, 0.3667, 0.4],\n",
    "    dtype=torch.float32\n",
    ")"
   ]
  },
  {
   "cell_type": "code",
   "execution_count": 15,
   "metadata": {},
   "outputs": [
    {
     "name": "stdout",
     "output_type": "stream",
     "text": [
      "[0.9642 0.0345 0.0012 0.     0.     0.     0.     0.     0.     0.\n",
      " 0.     0.     0.     0.     0.     0.     0.     0.     0.     0.\n",
      " 0.     0.     0.     0.     0.     0.     0.     0.     0.     0.\n",
      " 0.    ]\n"
     ]
    }
   ],
   "source": [
    "import numpy as np\n",
    "\n",
    "# 0.04 has 12 with weights, first 4 having 96%\n",
    "# 0.02 has 6 with weights, first 2 having 96% \n",
    "# 0.01 has 3 with weights, first 1 having 96%\n",
    "temperature = 0.01\n",
    "\n",
    "# Softmax using temperature.\n",
    "step_weights = torch.softmax(model_weights / temperature, dim=0)\n",
    "# Adjust to they sum to 1.\n",
    "step_weights = step_weights / step_weights.sum()\n",
    "# Sort\n",
    "sorted_step_weights, _ = torch.sort(step_weights, descending=True)\n",
    "# Roundeach element to 4 digits\n",
    "rounded_step_weights = np.round(sorted_step_weights.numpy(), decimals=4)\n",
    "# Supress exponents for readability.\n",
    "np.set_printoptions(suppress=True)\n",
    "print(rounded_step_weights)\n"
   ]
  },
  {
   "cell_type": "code",
   "execution_count": null,
   "metadata": {},
   "outputs": [],
   "source": []
  }
 ],
 "metadata": {
  "kernelspec": {
   "display_name": ".venv",
   "language": "python",
   "name": "python3"
  },
  "language_info": {
   "codemirror_mode": {
    "name": "ipython",
    "version": 3
   },
   "file_extension": ".py",
   "mimetype": "text/x-python",
   "name": "python",
   "nbconvert_exporter": "python",
   "pygments_lexer": "ipython3",
   "version": "3.10.12"
  }
 },
 "nbformat": 4,
 "nbformat_minor": 2
}
