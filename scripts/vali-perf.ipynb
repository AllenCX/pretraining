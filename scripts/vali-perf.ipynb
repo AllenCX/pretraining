{
 "cells": [
  {
   "cell_type": "code",
   "execution_count": 11,
   "metadata": {},
   "outputs": [
    {
     "name": "stdout",
     "output_type": "stream",
     "text": [
      "804\n"
     ]
    }
   ],
   "source": [
    "from typing import List\n",
    "from regex import Regex\n",
    "import wandb\n",
    "import datetime as dt\n",
    "import re\n",
    "\n",
    "def get_all_runs() -> List[wandb.run]:\n",
    "    api = wandb.Api(timeout=100)\n",
    "    # By default, runs are sorted in descending order by creation time.\n",
    "    return api.runs(\n",
    "        f\"opentensor-dev/pretraining-subnet\",\n",
    "        # The regex matching is quite poor, so let's just match on anything any filter ourselves.\n",
    "        per_page=1000,\n",
    "    )\n",
    "    \n",
    "regex = r'validator-([0-9]{1,3})-2024-.*'\n",
    "filtered_runs = [r for r in get_all_runs()[:5000] if re.match(regex, r.name)]\n",
    "\n",
    "print(len(filtered_runs))"
   ]
  },
  {
   "cell_type": "code",
   "execution_count": 28,
   "metadata": {},
   "outputs": [
    {
     "name": "stdout",
     "output_type": "stream",
     "text": [
      "1705106401.4615083\n"
     ]
    }
   ],
   "source": []
  },
  {
   "cell_type": "code",
   "execution_count": 38,
   "metadata": {},
   "outputs": [
    {
     "name": "stdout",
     "output_type": "stream",
     "text": [
      "Eval: Load model performance: N=30 | Min=5.11 s | Max=6.33 s | Median=5.52 s | P90=6.06 s\n",
      "Eval: Compute loss performance: N=30 | Min=2.28 s | Max=2.81 s | Median=2.50 s | P90=2.68 s\n",
      "Eval: Load model performance: N=30 | Min=1.40 s | Max=3.27 s | Median=1.56 s | P90=2.59 s\n",
      "Eval: Compute loss performance: N=30 | Min=3.75 s | Max=5.90 s | Median=3.82 s | P90=4.97 s\n",
      "Eval: Load model performance: N=30 | Min=902.12 ms | Max=1.08 s | Median=1.05 s | P90=1.08 s\n",
      "Eval: Compute loss performance: N=30 | Min=1.60 s | Max=1.67 s | Median=1.65 s | P90=1.66 s\n",
      "Eval: Load model performance: N=31 | Min=1.20 s | Max=4.82 s | Median=2.16 s | P90=4.52 s\n",
      "Eval: Compute loss performance: N=31 | Min=1.77 s | Max=1.99 s | Median=1.85 s | P90=1.94 s\n",
      "Eval: Load model performance: N=30 | Min=1.11 s | Max=2.23 s | Median=1.19 s | P90=1.33 s\n",
      "Eval: Compute loss performance: N=30 | Min=2.24 s | Max=2.65 s | Median=2.26 s | P90=2.59 s\n",
      "Eval: Load model performance: N=31 | Min=1.65 s | Max=2.95 s | Median=2.75 s | P90=2.85 s\n",
      "Eval: Compute loss performance: N=31 | Min=4.00 s | Max=4.38 s | Median=4.29 s | P90=4.36 s\n",
      "Eval: Load model performance: N=31 | Min=1.28 s | Max=2.82 s | Median=1.41 s | P90=2.61 s\n",
      "Eval: Compute loss performance: N=31 | Min=3.48 s | Max=4.18 s | Median=3.69 s | P90=4.13 s\n",
      "Eval: Load model performance: N=31 | Min=884.96 ms | Max=2.36 s | Median=940.77 ms | P90=2.17 s\n",
      "Eval: Compute loss performance: N=31 | Min=4.26 s | Max=4.82 s | Median=4.27 s | P90=4.76 s\n",
      "Eval: Load model performance: N=30 | Min=2.95 s | Max=3.55 s | Median=3.19 s | P90=3.42 s\n",
      "Eval: Compute loss performance: N=30 | Min=1.99 s | Max=2.25 s | Median=2.17 s | P90=2.22 s\n",
      "Eval: Load model performance: N=31 | Min=1.25 s | Max=4.43 s | Median=1.34 s | P90=2.66 s\n",
      "Eval: Compute loss performance: N=31 | Min=3.34 s | Max=4.07 s | Median=3.38 s | P90=3.97 s\n",
      "Eval: Load model performance: N=30 | Min=1.28 s | Max=2.37 s | Median=1.68 s | P90=2.29 s\n",
      "Eval: Compute loss performance: N=30 | Min=4.90 s | Max=5.25 s | Median=5.16 s | P90=5.24 s\n",
      "Eval: Load model performance: N=30 | Min=1.91 s | Max=5.01 s | Median=4.54 s | P90=4.75 s\n",
      "Eval: Compute loss performance: N=30 | Min=4.60 s | Max=4.74 s | Median=4.65 s | P90=4.68 s\n",
      "Eval: Load model performance: N=30 | Min=1.30 s | Max=2.98 s | Median=2.36 s | P90=2.73 s\n",
      "Eval: Compute loss performance: N=30 | Min=6.70 s | Max=14.41 s | Median=7.63 s | P90=13.82 s\n",
      "Eval: Load model performance: N=30 | Min=1.23 s | Max=5.65 s | Median=2.20 s | P90=4.43 s\n",
      "Eval: Compute loss performance: N=30 | Min=3.14 s | Max=3.71 s | Median=3.19 s | P90=3.67 s\n",
      "Eval: Load model performance: N=4 | Min=1.38 s | Max=1.71 s | Median=1.45 s | P90=1.64 s\n",
      "Eval: Compute loss performance: N=4 | Min=2.22 s | Max=3.01 s | Median=2.29 s | P90=2.80 s\n"
     ]
    },
    {
     "data": {
      "text/html": [
       "<pre style=\"white-space:pre;overflow-x:auto;line-height:normal;font-family:Menlo,'DejaVu Sans Mono',consolas,'Courier New',monospace\"><span style=\"font-style: italic\">                                     Perf stats                                      </span>\n",
       "┏━━━━━┳━━━━━━━━━┳━━━━━━━━━━━━━━━━┳━━━━━━━━━━━━━━━━┳━━━━━━━━━━━━━━━━┳━━━━━━━━━━━━━━━━┓\n",
       "┃<span style=\"font-weight: bold\"> uid </span>┃<span style=\"font-weight: bold\"> samples </span>┃<span style=\"font-weight: bold\"> load_model_avg </span>┃<span style=\"font-weight: bold\"> load_model_max </span>┃<span style=\"font-weight: bold\"> eval_model_avg </span>┃<span style=\"font-weight: bold\"> eval_model_max </span>┃\n",
       "┡━━━━━╇━━━━━━━━━╇━━━━━━━━━━━━━━━━╇━━━━━━━━━━━━━━━━╇━━━━━━━━━━━━━━━━╇━━━━━━━━━━━━━━━━┩\n",
       "│<span style=\"color: #008080; text-decoration-color: #008080\">   7 </span>│<span style=\"color: #800080; text-decoration-color: #800080\"> 4       </span>│<span style=\"color: #800080; text-decoration-color: #800080\"> 1.45           </span>│<span style=\"color: #800080; text-decoration-color: #800080\"> 1.71           </span>│<span style=\"color: #800080; text-decoration-color: #800080\"> 2.29           </span>│<span style=\"color: #800080; text-decoration-color: #800080\"> 3.01           </span>│\n",
       "│<span style=\"color: #008080; text-decoration-color: #008080\"> 116 </span>│<span style=\"color: #800080; text-decoration-color: #800080\"> 30      </span>│<span style=\"color: #800080; text-decoration-color: #800080\"> 5.52           </span>│<span style=\"color: #800080; text-decoration-color: #800080\"> 6.33           </span>│<span style=\"color: #800080; text-decoration-color: #800080\"> 2.5            </span>│<span style=\"color: #800080; text-decoration-color: #800080\"> 2.81           </span>│\n",
       "│<span style=\"color: #008080; text-decoration-color: #008080\"> 144 </span>│<span style=\"color: #800080; text-decoration-color: #800080\"> 30      </span>│<span style=\"color: #800080; text-decoration-color: #800080\"> 2.36           </span>│<span style=\"color: #800080; text-decoration-color: #800080\"> 2.98           </span>│<span style=\"color: #800080; text-decoration-color: #800080\"> 7.63           </span>│<span style=\"color: #800080; text-decoration-color: #800080\"> 14.41          </span>│\n",
       "│<span style=\"color: #008080; text-decoration-color: #008080\"> 161 </span>│<span style=\"color: #800080; text-decoration-color: #800080\"> 30      </span>│<span style=\"color: #800080; text-decoration-color: #800080\"> 1.19           </span>│<span style=\"color: #800080; text-decoration-color: #800080\"> 2.23           </span>│<span style=\"color: #800080; text-decoration-color: #800080\"> 2.26           </span>│<span style=\"color: #800080; text-decoration-color: #800080\"> 2.65           </span>│\n",
       "│<span style=\"color: #008080; text-decoration-color: #008080\"> 202 </span>│<span style=\"color: #800080; text-decoration-color: #800080\"> 30      </span>│<span style=\"color: #800080; text-decoration-color: #800080\"> 1.68           </span>│<span style=\"color: #800080; text-decoration-color: #800080\"> 2.37           </span>│<span style=\"color: #800080; text-decoration-color: #800080\"> 5.16           </span>│<span style=\"color: #800080; text-decoration-color: #800080\"> 5.25           </span>│\n",
       "│<span style=\"color: #008080; text-decoration-color: #008080\"> 210 </span>│<span style=\"color: #800080; text-decoration-color: #800080\"> 31      </span>│<span style=\"color: #800080; text-decoration-color: #800080\"> 2.16           </span>│<span style=\"color: #800080; text-decoration-color: #800080\"> 4.82           </span>│<span style=\"color: #800080; text-decoration-color: #800080\"> 1.85           </span>│<span style=\"color: #800080; text-decoration-color: #800080\"> 1.99           </span>│\n",
       "│<span style=\"color: #008080; text-decoration-color: #008080\"> 220 </span>│<span style=\"color: #800080; text-decoration-color: #800080\"> 30      </span>│<span style=\"color: #800080; text-decoration-color: #800080\"> 4.54           </span>│<span style=\"color: #800080; text-decoration-color: #800080\"> 5.01           </span>│<span style=\"color: #800080; text-decoration-color: #800080\"> 4.65           </span>│<span style=\"color: #800080; text-decoration-color: #800080\"> 4.74           </span>│\n",
       "│<span style=\"color: #008080; text-decoration-color: #008080\"> 237 </span>│<span style=\"color: #800080; text-decoration-color: #800080\"> 30      </span>│<span style=\"color: #800080; text-decoration-color: #800080\"> 2.2            </span>│<span style=\"color: #800080; text-decoration-color: #800080\"> 5.65           </span>│<span style=\"color: #800080; text-decoration-color: #800080\"> 3.19           </span>│<span style=\"color: #800080; text-decoration-color: #800080\"> 3.71           </span>│\n",
       "│<span style=\"color: #008080; text-decoration-color: #008080\"> 238 </span>│<span style=\"color: #800080; text-decoration-color: #800080\"> 31      </span>│<span style=\"color: #800080; text-decoration-color: #800080\"> 0.94077        </span>│<span style=\"color: #800080; text-decoration-color: #800080\"> 2.36           </span>│<span style=\"color: #800080; text-decoration-color: #800080\"> 4.269999999    </span>│<span style=\"color: #800080; text-decoration-color: #800080\"> 4.82           </span>│\n",
       "│<span style=\"color: #008080; text-decoration-color: #008080\"> 243 </span>│<span style=\"color: #800080; text-decoration-color: #800080\"> 30      </span>│<span style=\"color: #800080; text-decoration-color: #800080\"> 1.05           </span>│<span style=\"color: #800080; text-decoration-color: #800080\"> 1.08           </span>│<span style=\"color: #800080; text-decoration-color: #800080\"> 1.65           </span>│<span style=\"color: #800080; text-decoration-color: #800080\"> 1.67           </span>│\n",
       "│<span style=\"color: #008080; text-decoration-color: #008080\"> 244 </span>│<span style=\"color: #800080; text-decoration-color: #800080\"> 30      </span>│<span style=\"color: #800080; text-decoration-color: #800080\"> 1.56           </span>│<span style=\"color: #800080; text-decoration-color: #800080\"> 3.27           </span>│<span style=\"color: #800080; text-decoration-color: #800080\"> 3.82           </span>│<span style=\"color: #800080; text-decoration-color: #800080\"> 5.9            </span>│\n",
       "│<span style=\"color: #008080; text-decoration-color: #008080\"> 248 </span>│<span style=\"color: #800080; text-decoration-color: #800080\"> 31      </span>│<span style=\"color: #800080; text-decoration-color: #800080\"> 1.34           </span>│<span style=\"color: #800080; text-decoration-color: #800080\"> 4.43           </span>│<span style=\"color: #800080; text-decoration-color: #800080\"> 3.38           </span>│<span style=\"color: #800080; text-decoration-color: #800080\"> 4.07           </span>│\n",
       "│<span style=\"color: #008080; text-decoration-color: #008080\"> 249 </span>│<span style=\"color: #800080; text-decoration-color: #800080\"> 31      </span>│<span style=\"color: #800080; text-decoration-color: #800080\"> 2.75           </span>│<span style=\"color: #800080; text-decoration-color: #800080\"> 2.95           </span>│<span style=\"color: #800080; text-decoration-color: #800080\"> 4.29           </span>│<span style=\"color: #800080; text-decoration-color: #800080\"> 4.38           </span>│\n",
       "│<span style=\"color: #008080; text-decoration-color: #008080\"> 252 </span>│<span style=\"color: #800080; text-decoration-color: #800080\"> 30      </span>│<span style=\"color: #800080; text-decoration-color: #800080\"> 3.19           </span>│<span style=\"color: #800080; text-decoration-color: #800080\"> 3.55           </span>│<span style=\"color: #800080; text-decoration-color: #800080\"> 2.17           </span>│<span style=\"color: #800080; text-decoration-color: #800080\"> 2.25           </span>│\n",
       "│<span style=\"color: #008080; text-decoration-color: #008080\"> 254 </span>│<span style=\"color: #800080; text-decoration-color: #800080\"> 31      </span>│<span style=\"color: #800080; text-decoration-color: #800080\"> 1.41           </span>│<span style=\"color: #800080; text-decoration-color: #800080\"> 2.82           </span>│<span style=\"color: #800080; text-decoration-color: #800080\"> 3.69           </span>│<span style=\"color: #800080; text-decoration-color: #800080\"> 4.179999999    </span>│\n",
       "└─────┴─────────┴────────────────┴────────────────┴────────────────┴────────────────┘\n",
       "</pre>\n"
      ],
      "text/plain": [
       "\u001b[3m                                     Perf stats                                      \u001b[0m\n",
       "┏━━━━━┳━━━━━━━━━┳━━━━━━━━━━━━━━━━┳━━━━━━━━━━━━━━━━┳━━━━━━━━━━━━━━━━┳━━━━━━━━━━━━━━━━┓\n",
       "┃\u001b[1m \u001b[0m\u001b[1muid\u001b[0m\u001b[1m \u001b[0m┃\u001b[1m \u001b[0m\u001b[1msamples\u001b[0m\u001b[1m \u001b[0m┃\u001b[1m \u001b[0m\u001b[1mload_model_avg\u001b[0m\u001b[1m \u001b[0m┃\u001b[1m \u001b[0m\u001b[1mload_model_max\u001b[0m\u001b[1m \u001b[0m┃\u001b[1m \u001b[0m\u001b[1meval_model_avg\u001b[0m\u001b[1m \u001b[0m┃\u001b[1m \u001b[0m\u001b[1meval_model_max\u001b[0m\u001b[1m \u001b[0m┃\n",
       "┡━━━━━╇━━━━━━━━━╇━━━━━━━━━━━━━━━━╇━━━━━━━━━━━━━━━━╇━━━━━━━━━━━━━━━━╇━━━━━━━━━━━━━━━━┩\n",
       "│\u001b[36m \u001b[0m\u001b[36m  7\u001b[0m\u001b[36m \u001b[0m│\u001b[35m \u001b[0m\u001b[35m4      \u001b[0m\u001b[35m \u001b[0m│\u001b[35m \u001b[0m\u001b[35m1.45          \u001b[0m\u001b[35m \u001b[0m│\u001b[35m \u001b[0m\u001b[35m1.71          \u001b[0m\u001b[35m \u001b[0m│\u001b[35m \u001b[0m\u001b[35m2.29          \u001b[0m\u001b[35m \u001b[0m│\u001b[35m \u001b[0m\u001b[35m3.01          \u001b[0m\u001b[35m \u001b[0m│\n",
       "│\u001b[36m \u001b[0m\u001b[36m116\u001b[0m\u001b[36m \u001b[0m│\u001b[35m \u001b[0m\u001b[35m30     \u001b[0m\u001b[35m \u001b[0m│\u001b[35m \u001b[0m\u001b[35m5.52          \u001b[0m\u001b[35m \u001b[0m│\u001b[35m \u001b[0m\u001b[35m6.33          \u001b[0m\u001b[35m \u001b[0m│\u001b[35m \u001b[0m\u001b[35m2.5           \u001b[0m\u001b[35m \u001b[0m│\u001b[35m \u001b[0m\u001b[35m2.81          \u001b[0m\u001b[35m \u001b[0m│\n",
       "│\u001b[36m \u001b[0m\u001b[36m144\u001b[0m\u001b[36m \u001b[0m│\u001b[35m \u001b[0m\u001b[35m30     \u001b[0m\u001b[35m \u001b[0m│\u001b[35m \u001b[0m\u001b[35m2.36          \u001b[0m\u001b[35m \u001b[0m│\u001b[35m \u001b[0m\u001b[35m2.98          \u001b[0m\u001b[35m \u001b[0m│\u001b[35m \u001b[0m\u001b[35m7.63          \u001b[0m\u001b[35m \u001b[0m│\u001b[35m \u001b[0m\u001b[35m14.41         \u001b[0m\u001b[35m \u001b[0m│\n",
       "│\u001b[36m \u001b[0m\u001b[36m161\u001b[0m\u001b[36m \u001b[0m│\u001b[35m \u001b[0m\u001b[35m30     \u001b[0m\u001b[35m \u001b[0m│\u001b[35m \u001b[0m\u001b[35m1.19          \u001b[0m\u001b[35m \u001b[0m│\u001b[35m \u001b[0m\u001b[35m2.23          \u001b[0m\u001b[35m \u001b[0m│\u001b[35m \u001b[0m\u001b[35m2.26          \u001b[0m\u001b[35m \u001b[0m│\u001b[35m \u001b[0m\u001b[35m2.65          \u001b[0m\u001b[35m \u001b[0m│\n",
       "│\u001b[36m \u001b[0m\u001b[36m202\u001b[0m\u001b[36m \u001b[0m│\u001b[35m \u001b[0m\u001b[35m30     \u001b[0m\u001b[35m \u001b[0m│\u001b[35m \u001b[0m\u001b[35m1.68          \u001b[0m\u001b[35m \u001b[0m│\u001b[35m \u001b[0m\u001b[35m2.37          \u001b[0m\u001b[35m \u001b[0m│\u001b[35m \u001b[0m\u001b[35m5.16          \u001b[0m\u001b[35m \u001b[0m│\u001b[35m \u001b[0m\u001b[35m5.25          \u001b[0m\u001b[35m \u001b[0m│\n",
       "│\u001b[36m \u001b[0m\u001b[36m210\u001b[0m\u001b[36m \u001b[0m│\u001b[35m \u001b[0m\u001b[35m31     \u001b[0m\u001b[35m \u001b[0m│\u001b[35m \u001b[0m\u001b[35m2.16          \u001b[0m\u001b[35m \u001b[0m│\u001b[35m \u001b[0m\u001b[35m4.82          \u001b[0m\u001b[35m \u001b[0m│\u001b[35m \u001b[0m\u001b[35m1.85          \u001b[0m\u001b[35m \u001b[0m│\u001b[35m \u001b[0m\u001b[35m1.99          \u001b[0m\u001b[35m \u001b[0m│\n",
       "│\u001b[36m \u001b[0m\u001b[36m220\u001b[0m\u001b[36m \u001b[0m│\u001b[35m \u001b[0m\u001b[35m30     \u001b[0m\u001b[35m \u001b[0m│\u001b[35m \u001b[0m\u001b[35m4.54          \u001b[0m\u001b[35m \u001b[0m│\u001b[35m \u001b[0m\u001b[35m5.01          \u001b[0m\u001b[35m \u001b[0m│\u001b[35m \u001b[0m\u001b[35m4.65          \u001b[0m\u001b[35m \u001b[0m│\u001b[35m \u001b[0m\u001b[35m4.74          \u001b[0m\u001b[35m \u001b[0m│\n",
       "│\u001b[36m \u001b[0m\u001b[36m237\u001b[0m\u001b[36m \u001b[0m│\u001b[35m \u001b[0m\u001b[35m30     \u001b[0m\u001b[35m \u001b[0m│\u001b[35m \u001b[0m\u001b[35m2.2           \u001b[0m\u001b[35m \u001b[0m│\u001b[35m \u001b[0m\u001b[35m5.65          \u001b[0m\u001b[35m \u001b[0m│\u001b[35m \u001b[0m\u001b[35m3.19          \u001b[0m\u001b[35m \u001b[0m│\u001b[35m \u001b[0m\u001b[35m3.71          \u001b[0m\u001b[35m \u001b[0m│\n",
       "│\u001b[36m \u001b[0m\u001b[36m238\u001b[0m\u001b[36m \u001b[0m│\u001b[35m \u001b[0m\u001b[35m31     \u001b[0m\u001b[35m \u001b[0m│\u001b[35m \u001b[0m\u001b[35m0.94077       \u001b[0m\u001b[35m \u001b[0m│\u001b[35m \u001b[0m\u001b[35m2.36          \u001b[0m\u001b[35m \u001b[0m│\u001b[35m \u001b[0m\u001b[35m4.269999999   \u001b[0m\u001b[35m \u001b[0m│\u001b[35m \u001b[0m\u001b[35m4.82          \u001b[0m\u001b[35m \u001b[0m│\n",
       "│\u001b[36m \u001b[0m\u001b[36m243\u001b[0m\u001b[36m \u001b[0m│\u001b[35m \u001b[0m\u001b[35m30     \u001b[0m\u001b[35m \u001b[0m│\u001b[35m \u001b[0m\u001b[35m1.05          \u001b[0m\u001b[35m \u001b[0m│\u001b[35m \u001b[0m\u001b[35m1.08          \u001b[0m\u001b[35m \u001b[0m│\u001b[35m \u001b[0m\u001b[35m1.65          \u001b[0m\u001b[35m \u001b[0m│\u001b[35m \u001b[0m\u001b[35m1.67          \u001b[0m\u001b[35m \u001b[0m│\n",
       "│\u001b[36m \u001b[0m\u001b[36m244\u001b[0m\u001b[36m \u001b[0m│\u001b[35m \u001b[0m\u001b[35m30     \u001b[0m\u001b[35m \u001b[0m│\u001b[35m \u001b[0m\u001b[35m1.56          \u001b[0m\u001b[35m \u001b[0m│\u001b[35m \u001b[0m\u001b[35m3.27          \u001b[0m\u001b[35m \u001b[0m│\u001b[35m \u001b[0m\u001b[35m3.82          \u001b[0m\u001b[35m \u001b[0m│\u001b[35m \u001b[0m\u001b[35m5.9           \u001b[0m\u001b[35m \u001b[0m│\n",
       "│\u001b[36m \u001b[0m\u001b[36m248\u001b[0m\u001b[36m \u001b[0m│\u001b[35m \u001b[0m\u001b[35m31     \u001b[0m\u001b[35m \u001b[0m│\u001b[35m \u001b[0m\u001b[35m1.34          \u001b[0m\u001b[35m \u001b[0m│\u001b[35m \u001b[0m\u001b[35m4.43          \u001b[0m\u001b[35m \u001b[0m│\u001b[35m \u001b[0m\u001b[35m3.38          \u001b[0m\u001b[35m \u001b[0m│\u001b[35m \u001b[0m\u001b[35m4.07          \u001b[0m\u001b[35m \u001b[0m│\n",
       "│\u001b[36m \u001b[0m\u001b[36m249\u001b[0m\u001b[36m \u001b[0m│\u001b[35m \u001b[0m\u001b[35m31     \u001b[0m\u001b[35m \u001b[0m│\u001b[35m \u001b[0m\u001b[35m2.75          \u001b[0m\u001b[35m \u001b[0m│\u001b[35m \u001b[0m\u001b[35m2.95          \u001b[0m\u001b[35m \u001b[0m│\u001b[35m \u001b[0m\u001b[35m4.29          \u001b[0m\u001b[35m \u001b[0m│\u001b[35m \u001b[0m\u001b[35m4.38          \u001b[0m\u001b[35m \u001b[0m│\n",
       "│\u001b[36m \u001b[0m\u001b[36m252\u001b[0m\u001b[36m \u001b[0m│\u001b[35m \u001b[0m\u001b[35m30     \u001b[0m\u001b[35m \u001b[0m│\u001b[35m \u001b[0m\u001b[35m3.19          \u001b[0m\u001b[35m \u001b[0m│\u001b[35m \u001b[0m\u001b[35m3.55          \u001b[0m\u001b[35m \u001b[0m│\u001b[35m \u001b[0m\u001b[35m2.17          \u001b[0m\u001b[35m \u001b[0m│\u001b[35m \u001b[0m\u001b[35m2.25          \u001b[0m\u001b[35m \u001b[0m│\n",
       "│\u001b[36m \u001b[0m\u001b[36m254\u001b[0m\u001b[36m \u001b[0m│\u001b[35m \u001b[0m\u001b[35m31     \u001b[0m\u001b[35m \u001b[0m│\u001b[35m \u001b[0m\u001b[35m1.41          \u001b[0m\u001b[35m \u001b[0m│\u001b[35m \u001b[0m\u001b[35m2.82          \u001b[0m\u001b[35m \u001b[0m│\u001b[35m \u001b[0m\u001b[35m3.69          \u001b[0m\u001b[35m \u001b[0m│\u001b[35m \u001b[0m\u001b[35m4.179999999   \u001b[0m\u001b[35m \u001b[0m│\n",
       "└─────┴─────────┴────────────────┴────────────────┴────────────────┴────────────────┘\n"
      ]
     },
     "metadata": {},
     "output_type": "display_data"
    }
   ],
   "source": [
    "from collections import defaultdict\n",
    "import dataclasses\n",
    "from re import S\n",
    "import sys\n",
    "from rich.table import Table\n",
    "from rich.console import Console\n",
    "import json\n",
    "\n",
    "\n",
    "def parse_to_nanos(duration: str) -> int:\n",
    "    # duration is formatted like: 1.23 ms or 2.123 min\n",
    "    units = {\n",
    "        \"ns\": 1,\n",
    "        \"μs\": 1000,\n",
    "        \"ms\": 1000_000,\n",
    "        \"s\": 1000_000_000,\n",
    "        \"min\": 60 * 1000_000_000,\n",
    "    }\n",
    "    tokens = duration.split(\" \")\n",
    "    assert len(tokens) == 2, f\"Unexpected duration format: {duration}\"\n",
    "    value = float(tokens[0])\n",
    "    unit = tokens[1]\n",
    "    return int(value * units[unit])\n",
    "\n",
    "@dataclasses.dataclass(frozen=True)\n",
    "class stats:\n",
    "    samples: int\n",
    "    min: int\n",
    "    median: int\n",
    "    max: int\n",
    "    p90: int\n",
    "\n",
    "def parse_summary_str(summary: str) -> ():\n",
    "    unit = r'(?:ns|μs|ms|s|min)'\n",
    "    matcher = rf'.*N=([0-9]+) \\| Min=([0-9\\.]+ {unit}) \\| Max=([0-9\\.]+ {unit}) \\| Median=([0-9\\.]+ {unit}) \\| P90=([0-9\\.]+ {unit})'\n",
    "    groups = re.match(matcher, summary).groups()\n",
    "    return stats(\n",
    "        samples=int(groups[0]),\n",
    "        min=parse_to_nanos(groups[1]) / 1000_000_000,\n",
    "        max=parse_to_nanos(groups[2]) / 1000_000_000,\n",
    "        median=parse_to_nanos(groups[3])/ 1000_000_000,\n",
    "        p90=parse_to_nanos(groups[4])/ 1000_000_000,\n",
    "    )\n",
    "\n",
    "regex = r'validator-([0-9]{1,3})-2024-.*'\n",
    "\n",
    "# Map of uid to timestamp.\n",
    "most_recent_runs = defaultdict(lambda: sys.maxsize)\n",
    "stats_by_uid = {}\n",
    "\n",
    "for run in filtered_runs:\n",
    "    uid = int(re.match(regex, run.name).group(1))\n",
    "    timestamp = json.loads(filtered_runs[0].summary['original_format_json'])[\"timestamp\"]\n",
    "    if timestamp < most_recent_runs[uid]:\n",
    "        if run.summary.get(\"load_model_perf_log\"):\n",
    "            load_stats = parse_summary_str(run.summary.get(\"load_model_perf_log\"))\n",
    "            eval_stats = parse_summary_str(run.summary.get(\"compute_model_perf_log\"))\n",
    "            stats_by_uid[uid] = (load_stats, eval_stats)\n",
    "            most_recent_runs[uid] = timestamp\n",
    "\n",
    "table = Table(title=\"Perf stats\")\n",
    "table.add_column(\"uid\", justify=\"right\", style=\"cyan\", no_wrap=True)\n",
    "table.add_column(\"samples\", style=\"magenta\")\n",
    "table.add_column(\"load_model_avg\", style=\"magenta\")\n",
    "table.add_column(\"load_model_max\", style=\"magenta\")\n",
    "table.add_column(\"eval_model_avg\", style=\"magenta\")\n",
    "table.add_column(\"eval_model_max\", style=\"magenta\")\n",
    "uids = sorted([int(uid) for uid in stats_by_uid.keys()])\n",
    "for uid in uids:\n",
    "    s = stats_by_uid[uid]\n",
    "    table.add_row(\n",
    "        str(uid),\n",
    "        str(s[0].samples),\n",
    "        str(s[0].median),\n",
    "        str(s[0].max),\n",
    "        str(s[1].median),\n",
    "        str(s[1].max),\n",
    "    )\n",
    "\n",
    "console = Console()\n",
    "console.print(table)"
   ]
  },
  {
   "cell_type": "code",
   "execution_count": 31,
   "metadata": {},
   "outputs": [
    {
     "name": "stdout",
     "output_type": "stream",
     "text": [
      "('30', '5.11 s', '6.33 s', '5.52 s', '6.06 s')\n"
     ]
    }
   ],
   "source": [
    "unit = r'(?:ns|μs|ms|s|min)'\n",
    "matcher = rf'.*N=([0-9]+) \\| Min=([0-9\\.]+ {unit}) \\| Max=([0-9\\.]+ {unit}) \\| Median=([0-9\\.]+ {unit}) \\| P90=([0-9\\.]+ {unit})'\n",
    "summary =\"Eval: Load model performance: N=30 | Min=5.11 s | Max=6.33 s | Median=5.52 s | P90=6.06 s\"\n",
    "groups = re.match(matcher, summary).groups()\n",
    "print(groups)\n"
   ]
  },
  {
   "cell_type": "code",
   "execution_count": null,
   "metadata": {},
   "outputs": [],
   "source": []
  }
 ],
 "metadata": {
  "kernelspec": {
   "display_name": ".venv",
   "language": "python",
   "name": "python3"
  },
  "language_info": {
   "codemirror_mode": {
    "name": "ipython",
    "version": 3
   },
   "file_extension": ".py",
   "mimetype": "text/x-python",
   "name": "python",
   "nbconvert_exporter": "python",
   "pygments_lexer": "ipython3",
   "version": "3.10.13"
  }
 },
 "nbformat": 4,
 "nbformat_minor": 2
}
